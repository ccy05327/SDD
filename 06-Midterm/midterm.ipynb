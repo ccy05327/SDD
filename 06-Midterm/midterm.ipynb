{
 "cells": [
  {
   "cell_type": "markdown",
   "metadata": {},
   "source": [
    "### Part 2: Unit testing activity"
   ]
  },
  {
   "cell_type": "code",
   "execution_count": 27,
   "metadata": {},
   "outputs": [],
   "source": [
    "import unittest"
   ]
  },
  {
   "cell_type": "markdown",
   "metadata": {},
   "source": [
    "### Steps for Test1\n",
    "\n",
    "1. Create a test to check if the input is a list\n",
    "\n",
    "    <img src=\"./Test1/step1.png\" alt=\"step 1 output\" style=\"max-width: 60%\">\n",
    "\n",
    "2. Create the target function with one parameter, and return nothing, re-run the test\n",
    "\n",
    "    <img src=\"./Test1/step2.png\" alt=\"step 2 output\" style=\"max-width: 60%\">\n",
    "\n",
    "3. Return 6\n",
    "\n",
    "    <img src=\"./Test1/step3.png\" alt=\"step 3 output\" style=\"max-width: 60%\">\n",
    "\n",
    "4. Create the second test to test another list\n",
    "\n",
    "    <img src=\"./Test1/step4.png\" alt=\"step 4 output\" style=\"max-width: 60%\">\n",
    "\n",
    "5. Modify the function to produce the correct output\n",
    "\n",
    "    <img src=\"./Test1/step5.png\" alt=\"step 5 output\" style=\"max-width: 60%\">\n",
    "\n",
    "6. Create the third test for edge case\n",
    "\n",
    "    <img src=\"./Test1/step6.png\" alt=\"step 6 output\" style=\"max-width: 60%\">\n",
    "\n",
    "7. Modify the function to check if the elements in the parameter list is integer or float, and re-run the test\n",
    "\n",
    "    <img src=\"./Test1/step7.png\" alt=\"step 7 output\" style=\"max-width: 60%\">\n"
   ]
  },
  {
   "cell_type": "code",
   "execution_count": 28,
   "metadata": {},
   "outputs": [],
   "source": [
    "# A function calculating the total of a list from input\n",
    "def listSum(_list):\n",
    "    for i in _list:\n",
    "        if type(i) != int and type(i) != float:\n",
    "            return None\n",
    "        else:\n",
    "            continue\n",
    "    return sum(_list)\n"
   ]
  },
  {
   "cell_type": "code",
   "execution_count": 29,
   "metadata": {},
   "outputs": [],
   "source": [
    "# class TestSetForTest1(unittest.TestCase):\n",
    "    \n",
    "    # def test_is_sum(self):\n",
    "    #     self.assertEqual(listSum([1, 2, 3]), 6)\n",
    "        \n",
    "    # def test_is_sum_10(self):\n",
    "    #     self.assertEqual(listSum(range(1, 11)), 55)\n",
    "        \n",
    "    # def test_is_nan(self):\n",
    "    #     self.assertEqual(listSum(['1', '2', '3', '4']), None)\n",
    "        \n",
    "# unittest.main(argv=['ignored', '-v'], exit=False)"
   ]
  },
  {
   "cell_type": "markdown",
   "metadata": {},
   "source": [
    "### Steps for Test2\n",
    "\n",
    "1. Create a test to check if the return is the percentage\n",
    "\n",
    "    <img src=\"./Test2/step1.png\" alt=\"step 1 output\" style=\"max-width: 60%\">\n",
    "\n",
    "2. Create the target function with two parameters, and return nothing, re-run the test\n",
    "\n",
    "    <img src=\"./Test2/step2.png\" alt=\"step 2 output\" style=\"max-width: 60%\">\n",
    "\n",
    "3. Modify the function to return 0.1\n",
    "\n",
    "    <img src=\"./Test2/step3.png\" alt=\"step 3 output\" style=\"max-width: 60%\">\n",
    "\n",
    "4. Create the second test to test another list and index as input\n",
    "\n",
    "    <img src=\"./Test2/step4.png\" alt=\"step 4 output\" style=\"max-width: 60%\">\n",
    "\n",
    "5. Modify the function to produce the correct output\n",
    "\n",
    "    <img src=\"./Test2/step5.png\" alt=\"step 5 output\" style=\"max-width: 60%\">\n",
    "\n",
    "6. Create the third test for edge case\n",
    "\n",
    "    <img src=\"./Test2/step6.png\" alt=\"step 6 output\" style=\"max-width: 60%\">\n",
    "\n",
    "7. Modify the function to check if the elements in the parameter list is integer or float, and re-run the test\n",
    "\n",
    "    <img src=\"./Test2/step7.png\" alt=\"step 7 output\" style=\"max-width: 60%\">\n"
   ]
  },
  {
   "cell_type": "code",
   "execution_count": 30,
   "metadata": {},
   "outputs": [],
   "source": [
    "# A function taking a list and an index as parameters, calculating the percentage of the index in the list, rounding to second decimal\n",
    "def percentageOfIndex(_list, _index):\n",
    "    for i in _list:\n",
    "        if type(i) != int and type(i) != float:\n",
    "            return None\n",
    "        else:\n",
    "            continue\n",
    "    return round(_list[_index]/sum(_list), 2)"
   ]
  },
  {
   "cell_type": "code",
   "execution_count": 31,
   "metadata": {},
   "outputs": [],
   "source": [
    "# class TestSetForTest2(unittest.TestCase):\n",
    "\n",
    "#     def test_percentage(self):\n",
    "#         self.assertEqual(percentageOfIndex(range(1, 25, 2), 7), 0.1)\n",
    "        \n",
    "#     def test_percentage2(self):\n",
    "#         self.assertEqual(percentageOfIndex(range(1, 25, 3), 6), 0.21)\n",
    "        \n",
    "#     def test_input_nan(self):\n",
    "#         self.assertEqual(percentageOfIndex(['a', '2', 'q', 0, 4, '0'], 3), None)\n",
    "\n",
    "# unittest.main(argv=['ignored', '-v'], exit=False)\n"
   ]
  },
  {
   "cell_type": "markdown",
   "metadata": {},
   "source": [
    "### Steps for Test3\n",
    "\n",
    "1. Create a test to check if the return is the most frequent value\n",
    "\n",
    "    <img src=\"./Test3/step1.png\" alt=\"step 1 output\" style=\"max-width: 60%\">\n",
    "\n",
    "2. Create the target function with one parameter, and return nothing, re-run the test\n",
    "\n",
    "    <img src=\"./Test3/step2.png\" alt=\"step 2 output\" style=\"max-width: 60%\">\n",
    "\n",
    "3. Modify the function to return 6\n",
    "\n",
    "    <img src=\"./Test3/step3.png\" alt=\"step 3 output\" style=\"max-width: 60%\">\n",
    "\n",
    "4. Create the second test to test another list as input\n",
    "\n",
    "    <img src=\"./Test3/step4.png\" alt=\"step 4 output\" style=\"max-width: 60%\">\n",
    "\n",
    "5. Modify the function to produce the correct output\n",
    "\n",
    "    <img src=\"./Test3/step5.png\" alt=\"step 5 output\" style=\"max-width: 60%\">\n",
    "\n",
    "6. Create the third test for edge case (mixed number and string, two most frequent values)\n",
    "\n",
    "    <img src=\"./Test3/step6.png\" alt=\"step 6 output\" style=\"max-width: 60%\">\n",
    "\n",
    "7. Modify the function to allow multiple most frequent values, and re-run the test\n",
    "\n",
    "    <img src=\"./Test3/step7.png\" alt=\"step 7 output\" style=\"max-width: 60%\">\n"
   ]
  },
  {
   "cell_type": "code",
   "execution_count": 32,
   "metadata": {},
   "outputs": [],
   "source": [
    "# A function calculating the mode, also known as the most frequent value, in a given range\n",
    "\n",
    "def mostFrequent(_list):\n",
    "    maxCount = 0\n",
    "    num = _list[0]\n",
    "    numList = []\n",
    "    \n",
    "    for i in _list:\n",
    "        count = _list.count(i)\n",
    "        if (count > maxCount):\n",
    "            maxCount = count\n",
    "            num = i\n",
    "        \n",
    "    for i in _list:\n",
    "        count = _list.count(i)\n",
    "        if (count == maxCount):\n",
    "            numList.append(i)\n",
    "            \n",
    "    numList = sorted(list(set(numList)))\n",
    "    if (len(numList) == 1):\n",
    "        return numList[0]\n",
    "    else:\n",
    "        return numList\n"
   ]
  },
  {
   "cell_type": "code",
   "execution_count": 33,
   "metadata": {},
   "outputs": [
    {
     "name": "stderr",
     "output_type": "stream",
     "text": [
      "test_frequent (__main__.TestSetForTest3) ... ok\n",
      "test_frequent2 (__main__.TestSetForTest3) ... ok\n",
      "test_input_mixed (__main__.TestSetForTest3) ... ok\n",
      "\n",
      "----------------------------------------------------------------------\n",
      "Ran 3 tests in 0.003s\n",
      "\n",
      "OK\n"
     ]
    },
    {
     "data": {
      "text/plain": [
       "<unittest.main.TestProgram at 0x1b4d5ecea60>"
      ]
     },
     "execution_count": 33,
     "metadata": {},
     "output_type": "execute_result"
    }
   ],
   "source": [
    "class TestSetForTest3(unittest.TestCase):\n",
    "    \n",
    "    def test_frequent(self):\n",
    "        testList = ([3]*5) + ([2]*4) + ([6]*7) + ([5]*2)\n",
    "        self.assertEqual(mostFrequent(testList), 6)\n",
    "        \n",
    "    def test_frequent2(self):\n",
    "        testList = ([8]*5) + ([4]*4) + ([6]*2) + ([1]*2)\n",
    "        self.assertEqual(mostFrequent(testList), 8)\n",
    "        \n",
    "    def test_input_mixed(self):\n",
    "        testList = (['t']*2) + ([5]*9) + (['0']*7) + ([4]*9)\n",
    "        self.assertEqual(mostFrequent(testList), [4, 5])\n",
    "\n",
    "unittest.main(argv=['ignored', '-v'], exit=False)\n"
   ]
  }
 ],
 "metadata": {
  "kernelspec": {
   "display_name": "Python 3.8.10 ('base')",
   "language": "python",
   "name": "python3"
  },
  "language_info": {
   "codemirror_mode": {
    "name": "ipython",
    "version": 3
   },
   "file_extension": ".py",
   "mimetype": "text/x-python",
   "name": "python",
   "nbconvert_exporter": "python",
   "pygments_lexer": "ipython3",
   "version": "3.8.10"
  },
  "orig_nbformat": 4,
  "vscode": {
   "interpreter": {
    "hash": "e6f0f18e929f98629b0ad9187bbe400905e62f038b2875773787324ab39080a5"
   }
  }
 },
 "nbformat": 4,
 "nbformat_minor": 2
}
