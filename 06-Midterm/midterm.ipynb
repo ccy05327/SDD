{
 "cells": [
  {
   "cell_type": "markdown",
   "metadata": {},
   "source": [
    "### Part 1: Module coupling and cohesion"
   ]
  },
  {
   "cell_type": "markdown",
   "metadata": {},
   "source": [
    "1. Find 2 modules with different coupling types in ITP2 project\n",
    "2. Find 2 different module cohesion types in ITP2 project\n",
    "3. Write report (what technologies, explain why that type)"
   ]
  },
  {
   "cell_type": "markdown",
   "metadata": {},
   "source": [
    "### Part 2: Unit testing activity"
   ]
  },
  {
   "cell_type": "markdown",
   "metadata": {},
   "source": [
    "1. Pick a unit testing framework (Python snakestats or JavaScript norestforthewiccad)\n",
    "2. Came up with 3 function ideas to test on\n",
    "3. Write 3 tests each\n",
    "4. Write report about before & after"
   ]
  },
  {
   "cell_type": "markdown",
   "metadata": {},
   "source": [
    "### Part 3: Secure programming"
   ]
  },
  {
   "cell_type": "markdown",
   "metadata": {},
   "source": [
    "1. Do the readings\n",
    "2. Take note on security techniques possibly used\n",
    "3. Find 3 spots to implement in ITP2 project\n",
    "4. Write report with the possible techniques"
   ]
  },
  {
   "cell_type": "code",
   "execution_count": null,
   "metadata": {},
   "outputs": [],
   "source": []
  }
 ],
 "metadata": {
  "language_info": {
   "name": "python"
  },
  "orig_nbformat": 4
 },
 "nbformat": 4,
 "nbformat_minor": 2
}
