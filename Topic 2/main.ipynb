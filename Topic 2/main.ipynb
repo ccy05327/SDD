{
 "cells": [
  {
   "cell_type": "code",
   "execution_count": 1,
   "metadata": {},
   "outputs": [],
   "source": [
    "import unittest"
   ]
  },
  {
   "cell_type": "markdown",
   "metadata": {},
   "source": [
    "### 6.0201 Introduction to unittest in Python"
   ]
  },
  {
   "cell_type": "code",
   "execution_count": 2,
   "metadata": {},
   "outputs": [
    {
     "name": "stderr",
     "output_type": "stream",
     "text": [
      "test_arithmetic_fail (__main__.TestSetForOneModule) ... FAIL\n",
      "test_arithmetic_pass (__main__.TestSetForOneModule) ... ok\n",
      "\n",
      "======================================================================\n",
      "FAIL: test_arithmetic_fail (__main__.TestSetForOneModule)\n",
      "----------------------------------------------------------------------\n",
      "Traceback (most recent call last):\n",
      "  File \"<ipython-input-2-8d5620e7e65b>\", line 6, in test_arithmetic_fail\n",
      "    self.assertEqual(2+2, 3)\n",
      "AssertionError: 4 != 3\n",
      "\n",
      "----------------------------------------------------------------------\n",
      "Ran 2 tests in 0.003s\n",
      "\n",
      "FAILED (failures=1)\n"
     ]
    },
    {
     "data": {
      "text/plain": [
       "<unittest.main.TestProgram at 0x1a9c3316b80>"
      ]
     },
     "execution_count": 2,
     "metadata": {},
     "output_type": "execute_result"
    }
   ],
   "source": [
    "# inheriting functions from unittest\n",
    "class TestSetForOneModule(unittest.TestCase):\n",
    "    \n",
    "    def test_arithmetic_pass(self):\n",
    "        self.assertEqual(2+2, 4)\n",
    "\n",
    "    def test_arithmetic_fail(self):\n",
    "        self.assertEqual(2+2, 3)\n",
    "\n",
    "unittest.main(argv=['ignored', '-v'], exit=False)"
   ]
  },
  {
   "cell_type": "markdown",
   "metadata": {},
   "source": [
    "### 6.0203 Assertion function in unittest\n",
    "\n",
    "- `assertEqual(a, b)`, `assertNotEqual(a, b)`\n",
    "- `assertTrue(x)`, `assertFalse(x)`\n",
    "- `assertIs(a, b)`, `assertIsNot(a, b)`\n",
    "- `assertIsNone(x)`, `assertIsNotNone(x)`\n",
    "- `assertIn(a, b)`, `assertNotIn(a, b)`\n",
    "- `assertIsInstance(a, b)`, `assertIsNotInstance(a, b)`"
   ]
  },
  {
   "cell_type": "code",
   "execution_count": 30,
   "metadata": {},
   "outputs": [
    {
     "name": "stderr",
     "output_type": "stream",
     "text": [
      "test_bool_true (__main__.TestSetForOneModule) ... FAIL\n",
      "test_equal (__main__.TestSetForOneModule) ... FAIL\n",
      "test_in_sth (__main__.TestSetForOneModule) ... ok\n",
      "test_is_instance (__main__.TestSetForOneModule) ... ok\n",
      "test_is_none (__main__.TestSetForOneModule) ... ok\n",
      "test_is_sth (__main__.TestSetForOneModule) ... FAIL\n",
      "\n",
      "======================================================================\n",
      "FAIL: test_bool_true (__main__.TestSetForOneModule)\n",
      "----------------------------------------------------------------------\n",
      "Traceback (most recent call last):\n",
      "  File \"<ipython-input-30-bd5c6a9752af>\", line 13, in test_bool_true\n",
      "    self.assertTrue(2==4)\n",
      "AssertionError: False is not true\n",
      "\n",
      "======================================================================\n",
      "FAIL: test_equal (__main__.TestSetForOneModule)\n",
      "----------------------------------------------------------------------\n",
      "Traceback (most recent call last):\n",
      "  File \"<ipython-input-30-bd5c6a9752af>\", line 10, in test_equal\n",
      "    self.assertEqual(10, 10.1)\n",
      "AssertionError: 10 != 10.1\n",
      "\n",
      "======================================================================\n",
      "FAIL: test_is_sth (__main__.TestSetForOneModule)\n",
      "----------------------------------------------------------------------\n",
      "Traceback (most recent call last):\n",
      "  File \"<ipython-input-30-bd5c6a9752af>\", line 16, in test_is_sth\n",
      "    self.assertIs(10, 12)\n",
      "AssertionError: 10 is not 12\n",
      "\n",
      "----------------------------------------------------------------------\n",
      "Ran 6 tests in 0.005s\n",
      "\n",
      "FAILED (failures=3)\n"
     ]
    },
    {
     "data": {
      "text/plain": [
       "<unittest.main.TestProgram at 0x1a9c3f66700>"
      ]
     },
     "execution_count": 30,
     "metadata": {},
     "output_type": "execute_result"
    }
   ],
   "source": [
    "def doNotReturn():\n",
    "    a = 10\n",
    "\n",
    "class TestSetForOneModule(unittest.TestCase):\n",
    "    # wrong prefix ran 0 tests\n",
    "    def not_a_test(self):\n",
    "        self.assertEqual(10, 12)\n",
    "    # correct prefix ran 1 test\n",
    "    def test_equal(self):\n",
    "        self.assertEqual(10, 10.1)\n",
    "\n",
    "    def test_bool_true(self):\n",
    "        self.assertTrue(2==4)\n",
    "\n",
    "    def test_is_sth(self):\n",
    "        self.assertIs(10, 12)\n",
    "    \n",
    "    def test_in_sth(self):\n",
    "        self.assertIn(4, [1, 2, 3, 4, 5, 6])\n",
    "        \n",
    "    def test_is_none(self):\n",
    "        self.assertIsNone(doNotReturn())\n",
    "    \n",
    "    def test_is_instance(self):\n",
    "        self.assertIsInstance([1, 2, 3], list)\n",
    "            \n",
    "\n",
    "unittest.main(argv=['ignored', '-v'], exit=False)"
   ]
  },
  {
   "cell_type": "markdown",
   "metadata": {},
   "source": [
    "### 6.0305 Python lab\n",
    "\n",
    "[Lab worksheet](T2_snakestats_20201027.pdf)"
   ]
  },
  {
   "cell_type": "code",
   "execution_count": 1,
   "metadata": {},
   "outputs": [
    {
     "name": "stderr",
     "output_type": "stream",
     "text": [
      "test_getMax (__main__.TestsForSnakeStats) ... ok\n",
      "\n",
      "----------------------------------------------------------------------\n",
      "Ran 1 test in 0.001s\n",
      "\n",
      "OK\n"
     ]
    },
    {
     "data": {
      "text/plain": [
       "<unittest.main.TestProgram at 0x25301dac400>"
      ]
     },
     "execution_count": 1,
     "metadata": {},
     "output_type": "execute_result"
    }
   ],
   "source": [
    "import snakestats\n",
    "import unittest\n",
    "\n",
    "class TestsForSnakeStats(unittest.TestCase):\n",
    "    def test_mean(self):\n",
    "        res = snakestats.mean([1, 2, 3])\n",
    "        self.assertEqual(res, 2.0)\n",
    "    def test_mean_3_values(self):\n",
    "        res = snakestats.mean([1,2,3])\n",
    "        self.assertEqual(res, 2.0)\n",
    "    def test_mean_2_values(self):\n",
    "        res = snakestats.mean([1,2])\n",
    "        self.assertEqual(res, 1.5)\n",
    "    def test_that_fail(self):\n",
    "        res = snakestats.mean(['a', 'b', 'c'])\n",
    "        self.assertEqual(res, None)\n",
    "    def test_getMax(self):\n",
    "        theMax = snakestats.getMax(['1', 6, 5, 4, 3, 2, 7])\n",
    "        self.assertEqual(theMax, 7)\n",
    "    \n",
    "        \n",
    "unittest.main(argv=['ignored', '-v'], exit=False)\n"
   ]
  },
  {
   "cell_type": "code",
   "execution_count": null,
   "metadata": {},
   "outputs": [],
   "source": []
  }
 ],
 "metadata": {
  "interpreter": {
   "hash": "8944ac20941febd3898b0b9a08c0e7cafc7c4835a26d6ed6b5e365f07f1b2728"
  },
  "kernelspec": {
   "display_name": "Python 3.8.10 ('base')",
   "language": "python",
   "name": "python3"
  },
  "language_info": {
   "codemirror_mode": {
    "name": "ipython",
    "version": 3
   },
   "file_extension": ".py",
   "mimetype": "text/x-python",
   "name": "python",
   "nbconvert_exporter": "python",
   "pygments_lexer": "ipython3",
   "version": "3.8.10"
  },
  "orig_nbformat": 4
 },
 "nbformat": 4,
 "nbformat_minor": 2
}
